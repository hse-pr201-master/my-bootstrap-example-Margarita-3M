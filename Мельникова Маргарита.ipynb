{
 "cells": [
  {
   "cell_type": "markdown",
   "id": "03f3f843-bd32-4647-9abd-7c0c3ceb7b21",
   "metadata": {
    "jp-MarkdownHeadingCollapsed": true,
    "tags": []
   },
   "source": [
    "**Зимняя школа “Эконометрика и анализ данных: программирование в R и Python” 11 ноября - 24 ноября 2023, онлайн**\n",
    "\n",
    "**Тема:** Б.Б. Демешев \"Как проверять гипотезы и выглядеть крутым чуваком, если полностью забыл матстат?\n",
    "\n",
    "**Задание:** \"Как я использовал бутстрэп?\" с описанием источника данных, оцениваемых параметров, и выводов.\n",
    "\n",
    "**Задание выполнила** Мельникова Маргарита"
   ]
  },
  {
   "cell_type": "markdown",
   "id": "a0dfa346-0b86-469a-8a36-d7f97f5a32d3",
   "metadata": {
    "tags": []
   },
   "source": [
    "# Импорт необходимых библиотек"
   ]
  },
  {
   "cell_type": "code",
   "execution_count": 1,
   "id": "a652898b-6122-4e1c-95fe-bc407e705f34",
   "metadata": {},
   "outputs": [],
   "source": [
    "from arch.bootstrap import IIDBootstrap, IndependentSamplesBootstrap\n",
    "import matplotlib.pyplot as plt \n",
    "import numpy as np\n",
    "import pandas as pd\n",
    "import seaborn as sns"
   ]
  },
  {
   "cell_type": "markdown",
   "id": "45bd6c1b-7c25-43a6-90b5-d1681b27174f",
   "metadata": {
    "tags": []
   },
   "source": [
    "# Источник данных\n",
    "**Источник данных:** датасет из \"How to Analyze Your Gender Pay Gap: An Employer’s Guide\" (https://www.glassdoor.com/research/how-to-analyze-gender-pay-gap-employers-guide).\n",
    "\n",
    "Оригинальный источник и методика сбора данных не известна. Возможно, данные взяты из исследования “2019 Glassdoor Data on the Gender Pay Gap and Salary Transparency” (March 2019), Glassdoor survey conducted by The Harris Poll. Available at https://about-content.glassdoor.com//app/uploads/sites/2/2019/03/Gender-Pay-Gap-Fact-Sheet-2019.pdf, которое на 2023.11.11 не было доступно.\n",
    "\n",
    "Датасет содержит аномизированные данные о сотрудниках неких компаний:"
   ]
  },
  {
   "cell_type": "code",
   "execution_count": 2,
   "id": "16c7a3bf-cc1f-403b-a4d6-e8df7ab0d72c",
   "metadata": {},
   "outputs": [
    {
     "data": {
      "text/html": [
       "<style type=\"text/css\">\n",
       "#T_f6d6b_row0_col0, #T_f6d6b_row0_col1, #T_f6d6b_row0_col2, #T_f6d6b_row1_col0, #T_f6d6b_row1_col1, #T_f6d6b_row1_col2, #T_f6d6b_row2_col0, #T_f6d6b_row2_col1, #T_f6d6b_row2_col2, #T_f6d6b_row3_col0, #T_f6d6b_row3_col1, #T_f6d6b_row3_col2, #T_f6d6b_row4_col0, #T_f6d6b_row4_col1, #T_f6d6b_row4_col2, #T_f6d6b_row5_col0, #T_f6d6b_row5_col1, #T_f6d6b_row5_col2, #T_f6d6b_row6_col0, #T_f6d6b_row6_col1, #T_f6d6b_row6_col2, #T_f6d6b_row7_col0, #T_f6d6b_row7_col1, #T_f6d6b_row7_col2, #T_f6d6b_row8_col0, #T_f6d6b_row8_col1, #T_f6d6b_row8_col2 {\n",
       "  background-color: white;\n",
       "}\n",
       "</style>\n",
       "<table id=\"T_f6d6b\">\n",
       "  <thead>\n",
       "    <tr>\n",
       "      <th id=\"T_f6d6b_level0_col0\" class=\"col_heading level0 col0\" >название поля</th>\n",
       "      <th id=\"T_f6d6b_level0_col1\" class=\"col_heading level0 col1\" >описание поля</th>\n",
       "      <th id=\"T_f6d6b_level0_col2\" class=\"col_heading level0 col2\" >тип переменной</th>\n",
       "    </tr>\n",
       "  </thead>\n",
       "  <tbody>\n",
       "    <tr>\n",
       "      <td id=\"T_f6d6b_row0_col0\" class=\"data row0 col0\" >jobTitle</td>\n",
       "      <td id=\"T_f6d6b_row0_col1\" class=\"data row0 col1\" >название позиции</td>\n",
       "      <td id=\"T_f6d6b_row0_col2\" class=\"data row0 col2\" >категориальная</td>\n",
       "    </tr>\n",
       "    <tr>\n",
       "      <td id=\"T_f6d6b_row1_col0\" class=\"data row1 col0\" >gender</td>\n",
       "      <td id=\"T_f6d6b_row1_col1\" class=\"data row1 col1\" >пол</td>\n",
       "      <td id=\"T_f6d6b_row1_col2\" class=\"data row1 col2\" >категориальная</td>\n",
       "    </tr>\n",
       "    <tr>\n",
       "      <td id=\"T_f6d6b_row2_col0\" class=\"data row2 col0\" >age</td>\n",
       "      <td id=\"T_f6d6b_row2_col1\" class=\"data row2 col1\" >возраст</td>\n",
       "      <td id=\"T_f6d6b_row2_col2\" class=\"data row2 col2\" >количественная</td>\n",
       "    </tr>\n",
       "    <tr>\n",
       "      <td id=\"T_f6d6b_row3_col0\" class=\"data row3 col0\" >perfEval</td>\n",
       "      <td id=\"T_f6d6b_row3_col1\" class=\"data row3 col1\" >видимо, оценка перформанса сотрудника</td>\n",
       "      <td id=\"T_f6d6b_row3_col2\" class=\"data row3 col2\" >ранговая</td>\n",
       "    </tr>\n",
       "    <tr>\n",
       "      <td id=\"T_f6d6b_row4_col0\" class=\"data row4 col0\" >edu</td>\n",
       "      <td id=\"T_f6d6b_row4_col1\" class=\"data row4 col1\" >уровень образования</td>\n",
       "      <td id=\"T_f6d6b_row4_col2\" class=\"data row4 col2\" >категориальная</td>\n",
       "    </tr>\n",
       "    <tr>\n",
       "      <td id=\"T_f6d6b_row5_col0\" class=\"data row5 col0\" >dept</td>\n",
       "      <td id=\"T_f6d6b_row5_col1\" class=\"data row5 col1\" >департамент</td>\n",
       "      <td id=\"T_f6d6b_row5_col2\" class=\"data row5 col2\" >категориальная</td>\n",
       "    </tr>\n",
       "    <tr>\n",
       "      <td id=\"T_f6d6b_row6_col0\" class=\"data row6 col0\" >seniority</td>\n",
       "      <td id=\"T_f6d6b_row6_col1\" class=\"data row6 col1\" >видимо, грейд/разряд сотрудника</td>\n",
       "      <td id=\"T_f6d6b_row6_col2\" class=\"data row6 col2\" >ранговая</td>\n",
       "    </tr>\n",
       "    <tr>\n",
       "      <td id=\"T_f6d6b_row7_col0\" class=\"data row7 col0\" >basePay</td>\n",
       "      <td id=\"T_f6d6b_row7_col1\" class=\"data row7 col1\" >базовый оклад, USD</td>\n",
       "      <td id=\"T_f6d6b_row7_col2\" class=\"data row7 col2\" >количественная</td>\n",
       "    </tr>\n",
       "    <tr>\n",
       "      <td id=\"T_f6d6b_row8_col0\" class=\"data row8 col0\" >bonus</td>\n",
       "      <td id=\"T_f6d6b_row8_col1\" class=\"data row8 col1\" >базовый оклад, USD</td>\n",
       "      <td id=\"T_f6d6b_row8_col2\" class=\"data row8 col2\" >количественная</td>\n",
       "    </tr>\n",
       "  </tbody>\n",
       "</table>\n"
      ],
      "text/plain": [
       "<pandas.io.formats.style.Styler at 0x7f27a1899ac0>"
      ]
     },
     "execution_count": 2,
     "metadata": {},
     "output_type": "execute_result"
    }
   ],
   "source": [
    "table_descr = pd.DataFrame([['jobTitle', 'название позиции', 'категориальная']\n",
    "                , ['gender', 'пол', 'категориальная']\n",
    "                , ['age', 'возраст', 'количественная']\n",
    "                , ['perfEval', 'видимо, оценка перформанса сотрудника', 'ранговая']\n",
    "                , ['edu', 'уровень образования', 'категориальная']\n",
    "                , ['dept', 'департамент', 'категориальная']\n",
    "                , ['seniority', 'видимо, грейд/разряд сотрудника', 'ранговая']\n",
    "                , ['basePay', 'базовый оклад, USD', 'количественная']\n",
    "                , ['bonus', 'базовый оклад, USD', 'количественная']              \n",
    "               ], columns=['название поля', 'описание поля', 'тип переменной'])\n",
    "\n",
    "table_descr.style\\\n",
    "            .hide(axis='index')\\\n",
    "            .set_properties(**{'background-color': 'white'})"
   ]
  },
  {
   "cell_type": "markdown",
   "id": "fbb97a2d-f8ae-406e-8114-2b25f7b15b8c",
   "metadata": {},
   "source": [
    "Посмотрим на данные поближе:"
   ]
  },
  {
   "cell_type": "code",
   "execution_count": 3,
   "id": "5dbd79c1-a827-4421-aeed-c5e72f507331",
   "metadata": {},
   "outputs": [
    {
     "data": {
      "text/html": [
       "<div>\n",
       "<style scoped>\n",
       "    .dataframe tbody tr th:only-of-type {\n",
       "        vertical-align: middle;\n",
       "    }\n",
       "\n",
       "    .dataframe tbody tr th {\n",
       "        vertical-align: top;\n",
       "    }\n",
       "\n",
       "    .dataframe thead th {\n",
       "        text-align: right;\n",
       "    }\n",
       "</style>\n",
       "<table border=\"1\" class=\"dataframe\">\n",
       "  <thead>\n",
       "    <tr style=\"text-align: right;\">\n",
       "      <th></th>\n",
       "      <th>jobTitle</th>\n",
       "      <th>gender</th>\n",
       "      <th>age</th>\n",
       "      <th>perfEval</th>\n",
       "      <th>edu</th>\n",
       "      <th>dept</th>\n",
       "      <th>seniority</th>\n",
       "      <th>basePay</th>\n",
       "      <th>bonus</th>\n",
       "    </tr>\n",
       "  </thead>\n",
       "  <tbody>\n",
       "    <tr>\n",
       "      <th>0</th>\n",
       "      <td>Graphic Designer</td>\n",
       "      <td>Female</td>\n",
       "      <td>18</td>\n",
       "      <td>5</td>\n",
       "      <td>College</td>\n",
       "      <td>Operations</td>\n",
       "      <td>2</td>\n",
       "      <td>42363</td>\n",
       "      <td>9938</td>\n",
       "    </tr>\n",
       "  </tbody>\n",
       "</table>\n",
       "</div>"
      ],
      "text/plain": [
       "           jobTitle  gender  age  perfEval      edu        dept  seniority   \n",
       "0  Graphic Designer  Female   18         5  College  Operations          2  \\\n",
       "\n",
       "   basePay  bonus  \n",
       "0    42363   9938  "
      ]
     },
     "execution_count": 3,
     "metadata": {},
     "output_type": "execute_result"
    }
   ],
   "source": [
    "data = pd.read_csv('./data/data.csv')\n",
    "data.head(1)"
   ]
  },
  {
   "cell_type": "code",
   "execution_count": 4,
   "id": "6eff500d-0c1f-4e5b-b1f7-86e0e0ac30e5",
   "metadata": {},
   "outputs": [
    {
     "name": "stdout",
     "output_type": "stream",
     "text": [
      "Пропуски отсутсвуют\n"
     ]
    }
   ],
   "source": [
    "print('Пропуски отсутсвуют') if data.isna().sum().sum() == 0 else print('Есть пропуски')"
   ]
  },
  {
   "cell_type": "markdown",
   "id": "4c4882d7-198c-4836-a4ac-aadddd1bdc22",
   "metadata": {},
   "source": [
    "Рассчитаем совокупный доход:"
   ]
  },
  {
   "cell_type": "code",
   "execution_count": 5,
   "id": "5a4bd86a-9217-460f-9628-da5fdd3495a3",
   "metadata": {},
   "outputs": [],
   "source": [
    "data['ttlPay'] = data['basePay'] + data['bonus'] "
   ]
  },
  {
   "cell_type": "code",
   "execution_count": 6,
   "id": "4422434e-4df2-4a5e-90ac-c954cafc7d96",
   "metadata": {},
   "outputs": [
    {
     "data": {
      "text/plain": [
       "jobTitle\n",
       "Marketing Associate    118\n",
       "Software Engineer      109\n",
       "Financial Analyst      107\n",
       "Data Scientist         107\n",
       "Graphic Designer        98\n",
       "IT                      96\n",
       "Sales Associate         94\n",
       "Driver                  91\n",
       "Warehouse Associate     90\n",
       "Manager                 90\n",
       "Name: count, dtype: int64"
      ]
     },
     "execution_count": 6,
     "metadata": {},
     "output_type": "execute_result"
    }
   ],
   "source": [
    "data['jobTitle'].value_counts()"
   ]
  },
  {
   "cell_type": "code",
   "execution_count": 7,
   "id": "b20b6612-2733-41c2-9643-f267ceaf0e76",
   "metadata": {},
   "outputs": [
    {
     "data": {
      "text/plain": [
       "gender\n",
       "Male      532\n",
       "Female    468\n",
       "Name: count, dtype: int64"
      ]
     },
     "execution_count": 7,
     "metadata": {},
     "output_type": "execute_result"
    }
   ],
   "source": [
    "data['gender'].value_counts()"
   ]
  },
  {
   "cell_type": "code",
   "execution_count": 8,
   "id": "2104c7ef-2e7a-4347-8ee5-3c2721162179",
   "metadata": {},
   "outputs": [
    {
     "data": {
      "text/plain": [
       "edu\n",
       "High School    265\n",
       "Masters        256\n",
       "College        241\n",
       "PhD            238\n",
       "Name: count, dtype: int64"
      ]
     },
     "execution_count": 8,
     "metadata": {},
     "output_type": "execute_result"
    }
   ],
   "source": [
    "data['edu'].value_counts()"
   ]
  },
  {
   "cell_type": "code",
   "execution_count": 9,
   "id": "f5126f6f-3131-41c7-ab42-a66b26759c2f",
   "metadata": {},
   "outputs": [
    {
     "data": {
      "text/html": [
       "<style type=\"text/css\">\n",
       "#T_51a76_row0_col0, #T_51a76_row0_col1, #T_51a76_row0_col2, #T_51a76_row0_col3, #T_51a76_row0_col4, #T_51a76_row1_col0, #T_51a76_row1_col1, #T_51a76_row1_col2, #T_51a76_row1_col3, #T_51a76_row1_col4, #T_51a76_row2_col0, #T_51a76_row2_col1, #T_51a76_row2_col2, #T_51a76_row2_col3, #T_51a76_row2_col4, #T_51a76_row3_col0, #T_51a76_row3_col1, #T_51a76_row3_col2, #T_51a76_row3_col3, #T_51a76_row3_col4, #T_51a76_row4_col0, #T_51a76_row4_col1, #T_51a76_row4_col2, #T_51a76_row4_col3, #T_51a76_row4_col4, #T_51a76_row5_col0, #T_51a76_row5_col1, #T_51a76_row5_col2, #T_51a76_row5_col3, #T_51a76_row5_col4, #T_51a76_row6_col0, #T_51a76_row6_col1, #T_51a76_row6_col2, #T_51a76_row6_col3, #T_51a76_row6_col4, #T_51a76_row7_col0, #T_51a76_row7_col1, #T_51a76_row7_col2, #T_51a76_row7_col3, #T_51a76_row7_col4, #T_51a76_row8_col0, #T_51a76_row8_col1, #T_51a76_row8_col2, #T_51a76_row8_col3, #T_51a76_row8_col4, #T_51a76_row9_col0, #T_51a76_row9_col1, #T_51a76_row9_col2, #T_51a76_row9_col3, #T_51a76_row9_col4, #T_51a76_row10_col0, #T_51a76_row10_col1, #T_51a76_row10_col2, #T_51a76_row10_col3, #T_51a76_row10_col4 {\n",
       "  background-color: white;\n",
       "}\n",
       "</style>\n",
       "<table id=\"T_51a76\">\n",
       "  <thead>\n",
       "    <tr>\n",
       "      <th id=\"T_51a76_level0_col0\" class=\"col_heading level0 col0\" >jobTitle</th>\n",
       "      <th id=\"T_51a76_level0_col1\" class=\"col_heading level0 col1\" >Female</th>\n",
       "      <th id=\"T_51a76_level0_col2\" class=\"col_heading level0 col2\" >Male</th>\n",
       "      <th id=\"T_51a76_level0_col3\" class=\"col_heading level0 col3\" >All</th>\n",
       "      <th id=\"T_51a76_level0_col4\" class=\"col_heading level0 col4\" >female_share</th>\n",
       "    </tr>\n",
       "  </thead>\n",
       "  <tbody>\n",
       "    <tr>\n",
       "      <td id=\"T_51a76_row0_col0\" class=\"data row0 col0\" >Data Scientist</td>\n",
       "      <td id=\"T_51a76_row0_col1\" class=\"data row0 col1\" >53</td>\n",
       "      <td id=\"T_51a76_row0_col2\" class=\"data row0 col2\" >54</td>\n",
       "      <td id=\"T_51a76_row0_col3\" class=\"data row0 col3\" >107</td>\n",
       "      <td id=\"T_51a76_row0_col4\" class=\"data row0 col4\" >49.53</td>\n",
       "    </tr>\n",
       "    <tr>\n",
       "      <td id=\"T_51a76_row1_col0\" class=\"data row1 col0\" >Driver</td>\n",
       "      <td id=\"T_51a76_row1_col1\" class=\"data row1 col1\" >46</td>\n",
       "      <td id=\"T_51a76_row1_col2\" class=\"data row1 col2\" >45</td>\n",
       "      <td id=\"T_51a76_row1_col3\" class=\"data row1 col3\" >91</td>\n",
       "      <td id=\"T_51a76_row1_col4\" class=\"data row1 col4\" >50.55</td>\n",
       "    </tr>\n",
       "    <tr>\n",
       "      <td id=\"T_51a76_row2_col0\" class=\"data row2 col0\" >Financial Analyst</td>\n",
       "      <td id=\"T_51a76_row2_col1\" class=\"data row2 col1\" >49</td>\n",
       "      <td id=\"T_51a76_row2_col2\" class=\"data row2 col2\" >58</td>\n",
       "      <td id=\"T_51a76_row2_col3\" class=\"data row2 col3\" >107</td>\n",
       "      <td id=\"T_51a76_row2_col4\" class=\"data row2 col4\" >45.79</td>\n",
       "    </tr>\n",
       "    <tr>\n",
       "      <td id=\"T_51a76_row3_col0\" class=\"data row3 col0\" >Graphic Designer</td>\n",
       "      <td id=\"T_51a76_row3_col1\" class=\"data row3 col1\" >48</td>\n",
       "      <td id=\"T_51a76_row3_col2\" class=\"data row3 col2\" >50</td>\n",
       "      <td id=\"T_51a76_row3_col3\" class=\"data row3 col3\" >98</td>\n",
       "      <td id=\"T_51a76_row3_col4\" class=\"data row3 col4\" >48.98</td>\n",
       "    </tr>\n",
       "    <tr>\n",
       "      <td id=\"T_51a76_row4_col0\" class=\"data row4 col0\" >IT</td>\n",
       "      <td id=\"T_51a76_row4_col1\" class=\"data row4 col1\" >50</td>\n",
       "      <td id=\"T_51a76_row4_col2\" class=\"data row4 col2\" >46</td>\n",
       "      <td id=\"T_51a76_row4_col3\" class=\"data row4 col3\" >96</td>\n",
       "      <td id=\"T_51a76_row4_col4\" class=\"data row4 col4\" >52.08</td>\n",
       "    </tr>\n",
       "    <tr>\n",
       "      <td id=\"T_51a76_row5_col0\" class=\"data row5 col0\" >Manager</td>\n",
       "      <td id=\"T_51a76_row5_col1\" class=\"data row5 col1\" >18</td>\n",
       "      <td id=\"T_51a76_row5_col2\" class=\"data row5 col2\" >72</td>\n",
       "      <td id=\"T_51a76_row5_col3\" class=\"data row5 col3\" >90</td>\n",
       "      <td id=\"T_51a76_row5_col4\" class=\"data row5 col4\" >20.00</td>\n",
       "    </tr>\n",
       "    <tr>\n",
       "      <td id=\"T_51a76_row6_col0\" class=\"data row6 col0\" >Marketing Associate</td>\n",
       "      <td id=\"T_51a76_row6_col1\" class=\"data row6 col1\" >107</td>\n",
       "      <td id=\"T_51a76_row6_col2\" class=\"data row6 col2\" >11</td>\n",
       "      <td id=\"T_51a76_row6_col3\" class=\"data row6 col3\" >118</td>\n",
       "      <td id=\"T_51a76_row6_col4\" class=\"data row6 col4\" >90.68</td>\n",
       "    </tr>\n",
       "    <tr>\n",
       "      <td id=\"T_51a76_row7_col0\" class=\"data row7 col0\" >Sales Associate</td>\n",
       "      <td id=\"T_51a76_row7_col1\" class=\"data row7 col1\" >43</td>\n",
       "      <td id=\"T_51a76_row7_col2\" class=\"data row7 col2\" >51</td>\n",
       "      <td id=\"T_51a76_row7_col3\" class=\"data row7 col3\" >94</td>\n",
       "      <td id=\"T_51a76_row7_col4\" class=\"data row7 col4\" >45.74</td>\n",
       "    </tr>\n",
       "    <tr>\n",
       "      <td id=\"T_51a76_row8_col0\" class=\"data row8 col0\" >Software Engineer</td>\n",
       "      <td id=\"T_51a76_row8_col1\" class=\"data row8 col1\" >8</td>\n",
       "      <td id=\"T_51a76_row8_col2\" class=\"data row8 col2\" >101</td>\n",
       "      <td id=\"T_51a76_row8_col3\" class=\"data row8 col3\" >109</td>\n",
       "      <td id=\"T_51a76_row8_col4\" class=\"data row8 col4\" >7.34</td>\n",
       "    </tr>\n",
       "    <tr>\n",
       "      <td id=\"T_51a76_row9_col0\" class=\"data row9 col0\" >Warehouse Associate</td>\n",
       "      <td id=\"T_51a76_row9_col1\" class=\"data row9 col1\" >46</td>\n",
       "      <td id=\"T_51a76_row9_col2\" class=\"data row9 col2\" >44</td>\n",
       "      <td id=\"T_51a76_row9_col3\" class=\"data row9 col3\" >90</td>\n",
       "      <td id=\"T_51a76_row9_col4\" class=\"data row9 col4\" >51.11</td>\n",
       "    </tr>\n",
       "    <tr>\n",
       "      <td id=\"T_51a76_row10_col0\" class=\"data row10 col0\" >All</td>\n",
       "      <td id=\"T_51a76_row10_col1\" class=\"data row10 col1\" >468</td>\n",
       "      <td id=\"T_51a76_row10_col2\" class=\"data row10 col2\" >532</td>\n",
       "      <td id=\"T_51a76_row10_col3\" class=\"data row10 col3\" >1,000</td>\n",
       "      <td id=\"T_51a76_row10_col4\" class=\"data row10 col4\" >46.80</td>\n",
       "    </tr>\n",
       "  </tbody>\n",
       "</table>\n"
      ],
      "text/plain": [
       "<pandas.io.formats.style.Styler at 0x7f27a1899ee0>"
      ]
     },
     "execution_count": 9,
     "metadata": {},
     "output_type": "execute_result"
    }
   ],
   "source": [
    "report = data.pivot_table(values='age'\n",
    "                       , index=['jobTitle']\n",
    "                       , columns = ['gender']\n",
    "                       , aggfunc='count'\n",
    "                       , dropna=True\n",
    "                       , fill_value=0\n",
    "                       , margins=True)\n",
    "report['female_share'] = report['Female'].div(report['All']) * 100\n",
    "report.reset_index().style.format({ 'Female': '{:,.0f}'\n",
    "                , 'Male': '{:,.0f}'\n",
    "                , 'All': '{:,.0f}'\n",
    "                , 'female_share': '{:,.2f}'\n",
    "                })\\\n",
    "            .hide(axis='index')\\\n",
    "            .set_properties(**{'background-color': 'white'})"
   ]
  },
  {
   "cell_type": "markdown",
   "id": "f8dfebb0-13e8-42ec-9169-a0cf44c7abf6",
   "metadata": {
    "tags": []
   },
   "source": [
    "# Гипотеза 1: \n",
    "- H0: В ИТ отсутсвует gender gap, то есть доход женщин и мужчин сопоставим  \n",
    "- HA: В ИТ присутсвует gender gap, то есть доход женщин и мужчин не сопоставим\n",
    "\n",
    "К IT профессия отнесем следующие роли:\n",
    "- Software Engineer\n",
    "- IT\n",
    "- Data Scientist\n",
    "\n",
    "То есть будем оценивать разницу средних доходов мужчин и женщин.\n",
    "\n",
    "Сравним точечные оценки."
   ]
  },
  {
   "cell_type": "code",
   "execution_count": 10,
   "id": "7cd08473-d3dc-4a75-aaf7-ec16f43d5bc2",
   "metadata": {},
   "outputs": [
    {
     "name": "stdout",
     "output_type": "stream",
     "text": [
      "\n",
      "Описательные статистики:\n"
     ]
    },
    {
     "data": {
      "text/html": [
       "<style type=\"text/css\">\n",
       "#T_ef527_row0_col0, #T_ef527_row0_col1, #T_ef527_row0_col2, #T_ef527_row0_col3, #T_ef527_row1_col0, #T_ef527_row1_col1, #T_ef527_row1_col2, #T_ef527_row1_col3, #T_ef527_row2_col0, #T_ef527_row2_col1, #T_ef527_row2_col2, #T_ef527_row2_col3, #T_ef527_row3_col0, #T_ef527_row3_col1, #T_ef527_row3_col2, #T_ef527_row3_col3, #T_ef527_row4_col0, #T_ef527_row4_col1, #T_ef527_row4_col2, #T_ef527_row4_col3, #T_ef527_row5_col0, #T_ef527_row5_col1, #T_ef527_row5_col2, #T_ef527_row5_col3, #T_ef527_row6_col0, #T_ef527_row6_col1, #T_ef527_row6_col2, #T_ef527_row6_col3, #T_ef527_row7_col0, #T_ef527_row7_col1, #T_ef527_row7_col2, #T_ef527_row7_col3 {\n",
       "  background-color: white;\n",
       "}\n",
       "</style>\n",
       "<table id=\"T_ef527\">\n",
       "  <thead>\n",
       "    <tr>\n",
       "      <th id=\"T_ef527_level0_col0\" class=\"col_heading level0 col0\" >index</th>\n",
       "      <th id=\"T_ef527_level0_col1\" class=\"col_heading level0 col1\" >Female</th>\n",
       "      <th id=\"T_ef527_level0_col2\" class=\"col_heading level0 col2\" >Male</th>\n",
       "      <th id=\"T_ef527_level0_col3\" class=\"col_heading level0 col3\" >diff_%</th>\n",
       "    </tr>\n",
       "  </thead>\n",
       "  <tbody>\n",
       "    <tr>\n",
       "      <td id=\"T_ef527_row0_col0\" class=\"data row0 col0\" >count</td>\n",
       "      <td id=\"T_ef527_row0_col1\" class=\"data row0 col1\" >111</td>\n",
       "      <td id=\"T_ef527_row0_col2\" class=\"data row0 col2\" >201</td>\n",
       "      <td id=\"T_ef527_row0_col3\" class=\"data row0 col3\" >-44.78</td>\n",
       "    </tr>\n",
       "    <tr>\n",
       "      <td id=\"T_ef527_row1_col0\" class=\"data row1 col0\" >mean</td>\n",
       "      <td id=\"T_ef527_row1_col1\" class=\"data row1 col1\" >99,829</td>\n",
       "      <td id=\"T_ef527_row1_col2\" class=\"data row1 col2\" >104,695</td>\n",
       "      <td id=\"T_ef527_row1_col3\" class=\"data row1 col3\" >-4.65</td>\n",
       "    </tr>\n",
       "    <tr>\n",
       "      <td id=\"T_ef527_row2_col0\" class=\"data row2 col0\" >std</td>\n",
       "      <td id=\"T_ef527_row2_col1\" class=\"data row2 col1\" >23,597</td>\n",
       "      <td id=\"T_ef527_row2_col2\" class=\"data row2 col2\" >24,877</td>\n",
       "      <td id=\"T_ef527_row2_col3\" class=\"data row2 col3\" >-5.15</td>\n",
       "    </tr>\n",
       "    <tr>\n",
       "      <td id=\"T_ef527_row3_col0\" class=\"data row3 col0\" >min</td>\n",
       "      <td id=\"T_ef527_row3_col1\" class=\"data row3 col1\" >45,447</td>\n",
       "      <td id=\"T_ef527_row3_col2\" class=\"data row3 col2\" >53,598</td>\n",
       "      <td id=\"T_ef527_row3_col3\" class=\"data row3 col3\" >-15.21</td>\n",
       "    </tr>\n",
       "    <tr>\n",
       "      <td id=\"T_ef527_row4_col0\" class=\"data row4 col0\" >25%</td>\n",
       "      <td id=\"T_ef527_row4_col1\" class=\"data row4 col1\" >82,534</td>\n",
       "      <td id=\"T_ef527_row4_col2\" class=\"data row4 col2\" >88,009</td>\n",
       "      <td id=\"T_ef527_row4_col3\" class=\"data row4 col3\" >-6.22</td>\n",
       "    </tr>\n",
       "    <tr>\n",
       "      <td id=\"T_ef527_row5_col0\" class=\"data row5 col0\" >50%</td>\n",
       "      <td id=\"T_ef527_row5_col1\" class=\"data row5 col1\" >101,905</td>\n",
       "      <td id=\"T_ef527_row5_col2\" class=\"data row5 col2\" >102,932</td>\n",
       "      <td id=\"T_ef527_row5_col3\" class=\"data row5 col3\" >-1.00</td>\n",
       "    </tr>\n",
       "    <tr>\n",
       "      <td id=\"T_ef527_row6_col0\" class=\"data row6 col0\" >75%</td>\n",
       "      <td id=\"T_ef527_row6_col1\" class=\"data row6 col1\" >116,802</td>\n",
       "      <td id=\"T_ef527_row6_col2\" class=\"data row6 col2\" >121,525</td>\n",
       "      <td id=\"T_ef527_row6_col3\" class=\"data row6 col3\" >-3.89</td>\n",
       "    </tr>\n",
       "    <tr>\n",
       "      <td id=\"T_ef527_row7_col0\" class=\"data row7 col0\" >max</td>\n",
       "      <td id=\"T_ef527_row7_col1\" class=\"data row7 col1\" >144,389</td>\n",
       "      <td id=\"T_ef527_row7_col2\" class=\"data row7 col2\" >171,735</td>\n",
       "      <td id=\"T_ef527_row7_col3\" class=\"data row7 col3\" >-15.92</td>\n",
       "    </tr>\n",
       "  </tbody>\n",
       "</table>\n"
      ],
      "text/plain": [
       "<pandas.io.formats.style.Styler at 0x7f27a1715460>"
      ]
     },
     "execution_count": 10,
     "metadata": {},
     "output_type": "execute_result"
    }
   ],
   "source": [
    "it_roles = ['Software Engineer', 'IT', 'Data Scientist']\n",
    "data_it = data[data['jobTitle'].isin(it_roles)].copy()\n",
    "\n",
    "print('\\nОписательные статистики:')\n",
    "report = data_it.groupby(['gender'])['ttlPay'].describe().T.reset_index()\n",
    "report['diff_%'] = (report['Female'].div(report['Male']) - 1) * 100\n",
    "report.style.format({ 'Female': '{:,.0f}'\n",
    "                , 'Male': '{:,.0f}'\n",
    "                , 'diff_%': '{:,.2f}'\n",
    "                })\\\n",
    "            .hide(axis='index')\\\n",
    "            .set_properties(**{'background-color': 'white'})"
   ]
  },
  {
   "cell_type": "markdown",
   "id": "a88a0299-7ef1-4bf5-942a-c164aa852d9a",
   "metadata": {},
   "source": [
    "Построим распределение совокупного дохода в разрезе пола"
   ]
  },
  {
   "cell_type": "code",
   "execution_count": 11,
   "id": "52a920ab-00af-4736-b6f3-6fb93d740335",
   "metadata": {},
   "outputs": [
    {
     "data": {
      "image/png": "[encoded data removed]",
      "text/plain": [
       "<Figure size 432x288 with 1 Axes>"
      ]
     },
     "metadata": {
      "needs_background": "light"
     },
     "output_type": "display_data"
    }
   ],
   "source": [
    "sns.histplot(data=data_it, x='ttlPay', hue='gender')\n",
    "plt.title('Гистограмма совокупного дохода в разрезе пола')\n",
    "plt.show()"
   ]
  },
  {
   "cell_type": "markdown",
   "id": "ac78c693-7eb7-4c23-a516-46f2185127aa",
   "metadata": {},
   "source": [
    "Оценим доверительный интервал разницы между средними двух выборок при помощи простого (или наивного) бутстрэпа:\n",
    "- количество симуляций: 10_000\n",
    "- зафиксируем RNDM_SEED для воспроизводимости симуляций: 42\n",
    "\n",
    "И напишем для удобства функцию для расчета доверительного интервала, используя готовую реализацию из пакета arch."
   ]
  },
  {
   "cell_type": "code",
   "execution_count": 12,
   "id": "4f8366c9-4601-4d30-b584-dcc93b1fcda1",
   "metadata": {
    "tags": []
   },
   "outputs": [],
   "source": [
    "RNDM_SEED = 42\n",
    "TRIALS = 10_000\n",
    "\n",
    "def mean_diff(x, y):\n",
    "    '''\n",
    "    Function to calculate difference of means\n",
    "    '''\n",
    "    return np.mean(y) - np.mean(x)\n",
    "\n",
    "def get_bootstrap_ci(x, y, seed, trials):\n",
    "    '''\n",
    "    Function to get CI of difference of means of x and y\n",
    "    '''\n",
    "    boot_samples = IndependentSamplesBootstrap(x, y, seed=seed)\n",
    "    CI_low, CI_high = boot_samples.conf_int(mean_diff, reps=trials, size=0.95, method='basic')\n",
    "    return CI_low[0], CI_high[0]"
   ]
  },
  {
   "cell_type": "markdown",
   "id": "54ddf721-f935-448a-bfcd-dd0e3995be05",
   "metadata": {},
   "source": [
    "Построим 95% доверительный интервал разницы между средними доходами женщин и мужчин в ИТ:"
   ]
  },
  {
   "cell_type": "code",
   "execution_count": 13,
   "id": "f022214b-3fda-43b2-83f8-832cf362bcd1",
   "metadata": {},
   "outputs": [
    {
     "data": {
      "text/plain": [
       "(-735.6309701492573, 10454.030519698808)"
      ]
     },
     "execution_count": 13,
     "metadata": {},
     "output_type": "execute_result"
    }
   ],
   "source": [
    "female_data = data_it[data_it['gender']=='Female']['ttlPay'].values\n",
    "male_data = data_it[data_it['gender']=='Male']['ttlPay'].values\n",
    "zero_data = male_data * 0\n",
    "\n",
    "CI_low, CI_high = get_bootstrap_ci(x=female_data\n",
    "                               , y=male_data\n",
    "                               , seed=RNDM_SEED\n",
    "                               , trials=TRIALS)\n",
    "CI_low, CI_high"
   ]
  },
  {
   "cell_type": "markdown",
   "id": "e86a79f6-b084-4a83-b971-41b0989050ab",
   "metadata": {},
   "source": [
    "0 включен в построенный 95% доверительный интервал, следовательно, нет основания отвергать нулевую гипотезу."
   ]
  },
  {
   "cell_type": "markdown",
   "id": "76e8f98c-5e84-4aa7-9beb-80ca51019369",
   "metadata": {},
   "source": [
    "Из любопытства построю доверительный интервал доходов женщин и мужчин. Воспользуюсь ранее написанной функцией, подставив в нее нулевой вектор в вычетаемое. "
   ]
  },
  {
   "cell_type": "code",
   "execution_count": 14,
   "id": "d29a7c02-aefe-4ddd-80a9-c20568a8f525",
   "metadata": {},
   "outputs": [
    {
     "data": {
      "text/plain": [
       "(101222.28208955223, 108018.37773631839)"
      ]
     },
     "execution_count": 14,
     "metadata": {},
     "output_type": "execute_result"
    }
   ],
   "source": [
    "CI_low, CI_high = get_bootstrap_ci(x=male_data*0\n",
    "                               , y=male_data\n",
    "                               , seed=RNDM_SEED\n",
    "                               , trials=TRIALS)\n",
    "CI_low, CI_high"
   ]
  },
  {
   "cell_type": "code",
   "execution_count": 15,
   "id": "980b2097-212d-47f4-9f89-d1c0df8ce66e",
   "metadata": {},
   "outputs": [
    {
     "data": {
      "text/plain": [
       "(95553.09324324325, 104117.88018018017)"
      ]
     },
     "execution_count": 15,
     "metadata": {},
     "output_type": "execute_result"
    }
   ],
   "source": [
    "CI_low, CI_high = get_bootstrap_ci(x=female_data*0\n",
    "                               , y=female_data\n",
    "                               , seed=RNDM_SEED\n",
    "                               , trials=TRIALS)\n",
    "CI_low, CI_high"
   ]
  },
  {
   "cell_type": "markdown",
   "id": "e15c0098-f902-4a49-9b36-ec56ee366e0e",
   "metadata": {},
   "source": [
    "## Вывод\n",
    "0 включен в построенный 95% доверительный интервал, следовательно, нет основания отвергать нулевую гипотезу. Можем сделать вывод, что в наблюдаемых данных отсутсвует gender gap при оплате труда в ИТ."
   ]
  },
  {
   "cell_type": "markdown",
   "id": "e4a2b114-36e2-4f74-b0d4-89fa8fbc32bc",
   "metadata": {},
   "source": [
    "# Гипотеза 2:\n",
    "- H0: Доход Financial Analyst сопоставим с Data Scientist\n",
    "- HA: Доход Financial Analyst отличается от дохода Data Scientist"
   ]
  },
  {
   "cell_type": "code",
   "execution_count": 16,
   "id": "bb232962-3a24-47ba-bfe5-b88f2fe7e754",
   "metadata": {},
   "outputs": [
    {
     "name": "stdout",
     "output_type": "stream",
     "text": [
      "\n",
      "Описательные статистики:\n"
     ]
    },
    {
     "data": {
      "text/html": [
       "<style type=\"text/css\">\n",
       "#T_87f65_row0_col0, #T_87f65_row0_col1, #T_87f65_row0_col2, #T_87f65_row0_col3, #T_87f65_row1_col0, #T_87f65_row1_col1, #T_87f65_row1_col2, #T_87f65_row1_col3, #T_87f65_row2_col0, #T_87f65_row2_col1, #T_87f65_row2_col2, #T_87f65_row2_col3, #T_87f65_row3_col0, #T_87f65_row3_col1, #T_87f65_row3_col2, #T_87f65_row3_col3, #T_87f65_row4_col0, #T_87f65_row4_col1, #T_87f65_row4_col2, #T_87f65_row4_col3, #T_87f65_row5_col0, #T_87f65_row5_col1, #T_87f65_row5_col2, #T_87f65_row5_col3, #T_87f65_row6_col0, #T_87f65_row6_col1, #T_87f65_row6_col2, #T_87f65_row6_col3, #T_87f65_row7_col0, #T_87f65_row7_col1, #T_87f65_row7_col2, #T_87f65_row7_col3 {\n",
       "  background-color: white;\n",
       "}\n",
       "</style>\n",
       "<table id=\"T_87f65\">\n",
       "  <thead>\n",
       "    <tr>\n",
       "      <th id=\"T_87f65_level0_col0\" class=\"col_heading level0 col0\" >index</th>\n",
       "      <th id=\"T_87f65_level0_col1\" class=\"col_heading level0 col1\" >Data Scientist</th>\n",
       "      <th id=\"T_87f65_level0_col2\" class=\"col_heading level0 col2\" >Financial Analyst</th>\n",
       "      <th id=\"T_87f65_level0_col3\" class=\"col_heading level0 col3\" >diff_%</th>\n",
       "    </tr>\n",
       "  </thead>\n",
       "  <tbody>\n",
       "    <tr>\n",
       "      <td id=\"T_87f65_row0_col0\" class=\"data row0 col0\" >count</td>\n",
       "      <td id=\"T_87f65_row0_col1\" class=\"data row0 col1\" >107</td>\n",
       "      <td id=\"T_87f65_row0_col2\" class=\"data row0 col2\" >107</td>\n",
       "      <td id=\"T_87f65_row0_col3\" class=\"data row0 col3\" >0.00</td>\n",
       "    </tr>\n",
       "    <tr>\n",
       "      <td id=\"T_87f65_row1_col0\" class=\"data row1 col0\" >mean</td>\n",
       "      <td id=\"T_87f65_row1_col1\" class=\"data row1 col1\" >98,918</td>\n",
       "      <td id=\"T_87f65_row1_col2\" class=\"data row1 col2\" >101,404</td>\n",
       "      <td id=\"T_87f65_row1_col3\" class=\"data row1 col3\" >2.51</td>\n",
       "    </tr>\n",
       "    <tr>\n",
       "      <td id=\"T_87f65_row2_col0\" class=\"data row2 col0\" >std</td>\n",
       "      <td id=\"T_87f65_row2_col1\" class=\"data row2 col1\" >21,994</td>\n",
       "      <td id=\"T_87f65_row2_col2\" class=\"data row2 col2\" >21,197</td>\n",
       "      <td id=\"T_87f65_row2_col3\" class=\"data row2 col3\" >-3.63</td>\n",
       "    </tr>\n",
       "    <tr>\n",
       "      <td id=\"T_87f65_row3_col0\" class=\"data row3 col0\" >min</td>\n",
       "      <td id=\"T_87f65_row3_col1\" class=\"data row3 col1\" >47,688</td>\n",
       "      <td id=\"T_87f65_row3_col2\" class=\"data row3 col2\" >47,661</td>\n",
       "      <td id=\"T_87f65_row3_col3\" class=\"data row3 col3\" >-0.06</td>\n",
       "    </tr>\n",
       "    <tr>\n",
       "      <td id=\"T_87f65_row4_col0\" class=\"data row4 col0\" >25%</td>\n",
       "      <td id=\"T_87f65_row4_col1\" class=\"data row4 col1\" >82,360</td>\n",
       "      <td id=\"T_87f65_row4_col2\" class=\"data row4 col2\" >87,219</td>\n",
       "      <td id=\"T_87f65_row4_col3\" class=\"data row4 col3\" >5.90</td>\n",
       "    </tr>\n",
       "    <tr>\n",
       "      <td id=\"T_87f65_row5_col0\" class=\"data row5 col0\" >50%</td>\n",
       "      <td id=\"T_87f65_row5_col1\" class=\"data row5 col1\" >100,322</td>\n",
       "      <td id=\"T_87f65_row5_col2\" class=\"data row5 col2\" >99,917</td>\n",
       "      <td id=\"T_87f65_row5_col3\" class=\"data row5 col3\" >-0.40</td>\n",
       "    </tr>\n",
       "    <tr>\n",
       "      <td id=\"T_87f65_row6_col0\" class=\"data row6 col0\" >75%</td>\n",
       "      <td id=\"T_87f65_row6_col1\" class=\"data row6 col1\" >112,774</td>\n",
       "      <td id=\"T_87f65_row6_col2\" class=\"data row6 col2\" >119,458</td>\n",
       "      <td id=\"T_87f65_row6_col3\" class=\"data row6 col3\" >5.93</td>\n",
       "    </tr>\n",
       "    <tr>\n",
       "      <td id=\"T_87f65_row7_col0\" class=\"data row7 col0\" >max</td>\n",
       "      <td id=\"T_87f65_row7_col1\" class=\"data row7 col1\" >144,389</td>\n",
       "      <td id=\"T_87f65_row7_col2\" class=\"data row7 col2\" >155,151</td>\n",
       "      <td id=\"T_87f65_row7_col3\" class=\"data row7 col3\" >7.45</td>\n",
       "    </tr>\n",
       "  </tbody>\n",
       "</table>\n"
      ],
      "text/plain": [
       "<pandas.io.formats.style.Styler at 0x7f27a16dbdc0>"
      ]
     },
     "execution_count": 16,
     "metadata": {},
     "output_type": "execute_result"
    }
   ],
   "source": [
    "roles = ['Data Scientist', 'Financial Analyst']\n",
    "data_comp = data[data['jobTitle'].isin(roles)].copy()\n",
    "\n",
    "print('\\nОписательные статистики:')\n",
    "report = data_comp.groupby(['jobTitle'])['ttlPay'].describe().T.reset_index()\n",
    "report['diff_%'] = (report['Financial Analyst'].div(report['Data Scientist']) - 1) * 100\n",
    "report.style.format({'Data Scientist': '{:,.0f}'\n",
    "                , 'Financial Analyst': '{:,.0f}'\n",
    "                , 'diff_%': '{:,.2f}'\n",
    "                })\\\n",
    "            .hide(axis='index')\\\n",
    "            .set_properties(**{'background-color': 'white'})"
   ]
  },
  {
   "cell_type": "markdown",
   "id": "a6445cbc-d4de-4ac3-a83c-1e6a12ccf127",
   "metadata": {},
   "source": [
    "Построим распределение совокупного дохода в разрезе выбранных для исследования ролей:"
   ]
  },
  {
   "cell_type": "code",
   "execution_count": 17,
   "id": "1f616d4e-d89e-4895-b293-9cd7b83eb80f",
   "metadata": {},
   "outputs": [
    {
     "data": {
      "image/png": "[encoded data removed]",
      "text/plain": [
       "<Figure size 432x288 with 1 Axes>"
      ]
     },
     "metadata": {
      "needs_background": "light"
     },
     "output_type": "display_data"
    }
   ],
   "source": [
    "sns.histplot(data=data_comp, x='ttlPay', hue='jobTitle')\n",
    "plt.title('Гистограмма совокупного дохода в разрезе роли')\n",
    "plt.show()"
   ]
  },
  {
   "cell_type": "markdown",
   "id": "fa67e2b1-c55c-48af-afb1-ce5387c1bbe5",
   "metadata": {},
   "source": [
    "Построим 95% доверительный интервал разницы между средними доходами Data Scientist и Financial Analyst:"
   ]
  },
  {
   "cell_type": "code",
   "execution_count": 18,
   "id": "4fae5f3f-e8b0-4aaf-9cd6-159db0815e49",
   "metadata": {},
   "outputs": [
    {
     "data": {
      "text/plain": [
       "(-3349.914719626164, 8174.395093457946)"
      ]
     },
     "execution_count": 18,
     "metadata": {},
     "output_type": "execute_result"
    }
   ],
   "source": [
    "income_ds = data_comp[data_comp['jobTitle']=='Data Scientist']['ttlPay'].values\n",
    "income_fa = data_comp[data_comp['jobTitle']=='Financial Analyst']['ttlPay'].values\n",
    "\n",
    "CI_low, CI_high = get_bootstrap_ci(x=income_ds\n",
    "                               , y=income_fa\n",
    "                               , seed=RNDM_SEED\n",
    "                               , trials=TRIALS)\n",
    "CI_low, CI_high"
   ]
  },
  {
   "cell_type": "markdown",
   "id": "d4c3a9f0-5347-438a-a81f-c586ba3600fb",
   "metadata": {},
   "source": [
    "## Вывод\n",
    "0 включен в построенный 95% доверительный интервал, следовательно, нет основания отвергать нулевую гипотезу. Можем сделать вывод, что в наблюдаемых данных доход финансовых аналитиков и аналитиков данных сопоставим. Следовательно, \"перекатываться\" в DS, ориентируясь только на уровень дохода, не стоит."
   ]
  }
 ],
 "metadata": {
  "kernelspec": {
   "display_name": "Python 3 (ipykernel)",
   "language": "python",
   "name": "python3"
  },
  "language_info": {
   "codemirror_mode": {
    "name": "ipython",
    "version": 3
   },
   "file_extension": ".py",
   "mimetype": "text/x-python",
   "name": "python",
   "nbconvert_exporter": "python",
   "pygments_lexer": "ipython3",
   "version": "3.9.7"
  }
 },
 "nbformat": 4,
 "nbformat_minor": 5
}
